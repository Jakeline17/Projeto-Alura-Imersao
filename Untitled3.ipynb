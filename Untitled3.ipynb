{
  "nbformat": 4,
  "nbformat_minor": 0,
  "metadata": {
    "colab": {
      "provenance": [],
      "authorship_tag": "ABX9TyM/dyAdMo1NlvO/O0GqJKYg",
      "include_colab_link": true
    },
    "kernelspec": {
      "name": "python3",
      "display_name": "Python 3"
    },
    "language_info": {
      "name": "python"
    }
  },
  "cells": [
    {
      "cell_type": "markdown",
      "metadata": {
        "id": "view-in-github",
        "colab_type": "text"
      },
      "source": [
        "<a href=\"https://colab.research.google.com/github/Jakeline17/Projeto-Alura-Imersao/blob/main/Untitled3.ipynb\" target=\"_parent\"><img src=\"https://colab.research.google.com/assets/colab-badge.svg\" alt=\"Open In Colab\"/></a>"
      ]
    },
    {
      "cell_type": "code",
      "source": [],
      "metadata": {
        "id": "HF5eRW3a1id2"
      },
      "execution_count": null,
      "outputs": []
    },
    {
      "cell_type": "markdown",
      "source": [
        "Instalando o SDK do Google"
      ],
      "metadata": {
        "id": "MeP3gHHr1f6L"
      }
    },
    {
      "cell_type": "code",
      "execution_count": 1,
      "metadata": {
        "id": "6ek57Lg11IhI"
      },
      "outputs": [],
      "source": [
        "!pip install -q -U google-generativeai"
      ]
    },
    {
      "cell_type": "code",
      "source": [
        "import google.generativeai as genai\n",
        "from google.colab import userdata\n",
        "api_key = userdata.get('SECRET_KEY')\n",
        "genai.configure(api_key=api_key)"
      ],
      "metadata": {
        "id": "QKiQ7wDJ1615"
      },
      "execution_count": 12,
      "outputs": []
    },
    {
      "cell_type": "code",
      "source": [
        "for m in genai.list_models():\n",
        "  if 'generateContent' in m.supported_generation_methods:\n",
        "    print(m.name)"
      ],
      "metadata": {
        "colab": {
          "base_uri": "https://localhost:8080/",
          "height": 138
        },
        "id": "pe3BV9oK2SXG",
        "outputId": "68fcda9c-e0b7-4986-90c2-863f3b37f7b7"
      },
      "execution_count": 3,
      "outputs": [
        {
          "output_type": "stream",
          "name": "stdout",
          "text": [
            "models/gemini-1.0-pro\n",
            "models/gemini-1.0-pro-001\n",
            "models/gemini-1.0-pro-latest\n",
            "models/gemini-1.0-pro-vision-latest\n",
            "models/gemini-1.5-pro-latest\n",
            "models/gemini-pro\n",
            "models/gemini-pro-vision\n"
          ]
        }
      ]
    },
    {
      "cell_type": "code",
      "source": [
        "generation_config = {\n",
        "  \"candidate_count\": 1,\n",
        "  \"temperature\": 0.5,\n",
        "}"
      ],
      "metadata": {
        "id": "aAKqOqds2Xsw"
      },
      "execution_count": 4,
      "outputs": []
    },
    {
      "cell_type": "code",
      "source": [
        "safety_settings={\n",
        "    'HATE': 'BLOCK_NONE',\n",
        "    'HARASSMENT': 'BLOCK_NONE',\n",
        "    'SEXUAL' : 'BLOCK_NONE',\n",
        "    'DANGEROUS' : 'BLOCK_NONE'\n",
        "    }"
      ],
      "metadata": {
        "id": "0h_ZObQA2fSr"
      },
      "execution_count": 5,
      "outputs": []
    },
    {
      "cell_type": "code",
      "source": [
        "model = genai.GenerativeModel(model_name='gemini-1.0-pro',\n",
        "                                  generation_config=generation_config,\n",
        "                                  safety_settings=safety_settings,)"
      ],
      "metadata": {
        "id": "4hdOiYd82mou"
      },
      "execution_count": 6,
      "outputs": []
    },
    {
      "cell_type": "code",
      "source": [
        "response = model.generate_content(\"Que empresa criou o modelo de IA Gemini?\")\n",
        "response.text"
      ],
      "metadata": {
        "colab": {
          "base_uri": "https://localhost:8080/",
          "height": 35
        },
        "id": "QvUaqX102r3y",
        "outputId": "1515e761-8d84-46b6-9ead-711427c5e21a"
      },
      "execution_count": 7,
      "outputs": [
        {
          "output_type": "execute_result",
          "data": {
            "text/plain": [
              "'Google'"
            ],
            "application/vnd.google.colaboratory.intrinsic+json": {
              "type": "string"
            }
          },
          "metadata": {},
          "execution_count": 7
        }
      ]
    },
    {
      "cell_type": "code",
      "source": [
        "chat = model.start_chat(history=[])\n",
        "\n",
        "prompt = input('Esperando prompt: ')\n",
        "\n",
        "while prompt != \"fim\":\n",
        "  response = chat.send_message(prompt)\n",
        "  print(\"Resposta:\", response.text, '\\n\\n')\n",
        "  prompt = input('Esperando prompt: ')"
      ],
      "metadata": {
        "colab": {
          "base_uri": "https://localhost:8080/",
          "height": 401
        },
        "id": "Fp_fe_2n27ZM",
        "outputId": "fee76546-8511-49b6-fb66-246d9186ad49"
      },
      "execution_count": 8,
      "outputs": [
        {
          "name": "stdout",
          "output_type": "stream",
          "text": [
            "Esperando prompt: o que é IA?\n",
            "Resposta: Inteligência Artificial (IA) refere-se a sistemas ou máquinas que exibem inteligência semelhante à humana, realizando tarefas que normalmente requerem habilidades cognitivas humanas, como:\n",
            "\n",
            "* **Aprendizado:** Capacidade de adquirir conhecimento e melhorar o desempenho com base em dados e experiências.\n",
            "* **Raciocínio:** Capacidade de resolver problemas, tomar decisões e tirar conclusões.\n",
            "* **Linguagem:** Capacidade de entender, gerar e responder a linguagem humana.\n",
            "* **Percepção:** Capacidade de interpretar e compreender dados sensoriais, como imagens e sons.\n",
            "* **Planejamento:** Capacidade de criar e executar planos para atingir objetivos.\n",
            "\n",
            "A IA é usada em uma ampla gama de aplicações, incluindo:\n",
            "\n",
            "* Reconhecimento de fala e imagem\n",
            "* Processamento de linguagem natural\n",
            "* Sistemas de recomendação\n",
            "* Veículos autônomos\n",
            "* Diagnóstico médico\n",
            "* Análise de dados\n",
            "* Robótica \n",
            "\n",
            "\n",
            "Esperando prompt: fim\n"
          ]
        }
      ]
    },
    {
      "cell_type": "code",
      "source": [
        "chat\n"
      ],
      "metadata": {
        "colab": {
          "base_uri": "https://localhost:8080/"
        },
        "id": "1Zmv4cEP2_Au",
        "outputId": "b0258b4f-9edc-431f-e23c-17e28a5aa60f"
      },
      "execution_count": 9,
      "outputs": [
        {
          "output_type": "execute_result",
          "data": {
            "text/plain": [
              "ChatSession(\n",
              "    model=genai.GenerativeModel(\n",
              "        model_name='models/gemini-1.0-pro',\n",
              "        generation_config={'candidate_count': 1, 'temperature': 0.5},\n",
              "        safety_settings={<HarmCategory.HARM_CATEGORY_HATE_SPEECH: 8>: <HarmBlockThreshold.BLOCK_NONE: 4>, <HarmCategory.HARM_CATEGORY_HARASSMENT: 7>: <HarmBlockThreshold.BLOCK_NONE: 4>, <HarmCategory.HARM_CATEGORY_SEXUALLY_EXPLICIT: 9>: <HarmBlockThreshold.BLOCK_NONE: 4>, <HarmCategory.HARM_CATEGORY_DANGEROUS_CONTENT: 10>: <HarmBlockThreshold.BLOCK_NONE: 4>},\n",
              "        tools=None,\n",
              "        system_instruction=None,\n",
              "    ),\n",
              "    history=[glm.Content({'parts': [{'text': 'o que é IA?'}], 'role': 'user'}), glm.Content({'parts': [{'text': 'Inteligência...s\\n* Robótica'}], 'role': 'model'})]\n",
              ")"
            ]
          },
          "metadata": {},
          "execution_count": 9
        }
      ]
    },
    {
      "cell_type": "code",
      "source": [
        "chat.history"
      ],
      "metadata": {
        "colab": {
          "base_uri": "https://localhost:8080/"
        },
        "id": "SAhTsbDW3FV0",
        "outputId": "e110c459-304c-47d8-f634-4b710e2e47c0"
      },
      "execution_count": 10,
      "outputs": [
        {
          "output_type": "execute_result",
          "data": {
            "text/plain": [
              "[parts {\n",
              "   text: \"o que \\303\\251 IA?\"\n",
              " }\n",
              " role: \"user\",\n",
              " parts {\n",
              "   text: \"Intelig\\303\\252ncia Artificial (IA) refere-se a sistemas ou m\\303\\241quinas que exibem intelig\\303\\252ncia semelhante \\303\\240 humana, realizando tarefas que normalmente requerem habilidades cognitivas humanas, como:\\n\\n* **Aprendizado:** Capacidade de adquirir conhecimento e melhorar o desempenho com base em dados e experi\\303\\252ncias.\\n* **Racioc\\303\\255nio:** Capacidade de resolver problemas, tomar decis\\303\\265es e tirar conclus\\303\\265es.\\n* **Linguagem:** Capacidade de entender, gerar e responder a linguagem humana.\\n* **Percep\\303\\247\\303\\243o:** Capacidade de interpretar e compreender dados sensoriais, como imagens e sons.\\n* **Planejamento:** Capacidade de criar e executar planos para atingir objetivos.\\n\\nA IA \\303\\251 usada em uma ampla gama de aplica\\303\\247\\303\\265es, incluindo:\\n\\n* Reconhecimento de fala e imagem\\n* Processamento de linguagem natural\\n* Sistemas de recomenda\\303\\247\\303\\243o\\n* Ve\\303\\255culos aut\\303\\264nomos\\n* Diagn\\303\\263stico m\\303\\251dico\\n* An\\303\\241lise de dados\\n* Rob\\303\\263tica\"\n",
              " }\n",
              " role: \"model\"]"
            ]
          },
          "metadata": {},
          "execution_count": 10
        }
      ]
    },
    {
      "cell_type": "code",
      "source": [
        "#Melhorando a visualização\n",
        "#Código disponível em https://ai.google.dev/tutorials/python_quickstart#import_packages\n",
        "import textwrap\n",
        "from IPython.display import display\n",
        "from IPython.display import Markdown\n",
        "\n",
        "def to_markdown(text):\n",
        "  text = text.replace('•', '  *')\n",
        "  return Markdown(textwrap.indent(text, '> ', predicate=lambda _: True))\n",
        "\n",
        "#Imprimindo o histórico\n",
        "for message in chat.history:\n",
        "  display(to_markdown(f'**{message.role}**: {message.parts[0].text}'))\n",
        "  print('-------------------------------------------')"
      ],
      "metadata": {
        "colab": {
          "base_uri": "https://localhost:8080/",
          "height": 403
        },
        "id": "KUie5NAx3NPm",
        "outputId": "ab96b6f3-2590-420b-932f-bf0a7ba9a25c"
      },
      "execution_count": 11,
      "outputs": [
        {
          "output_type": "display_data",
          "data": {
            "text/plain": [
              "<IPython.core.display.Markdown object>"
            ],
            "text/markdown": "> **user**: o que é IA?"
          },
          "metadata": {}
        },
        {
          "output_type": "stream",
          "name": "stdout",
          "text": [
            "-------------------------------------------\n"
          ]
        },
        {
          "output_type": "display_data",
          "data": {
            "text/plain": [
              "<IPython.core.display.Markdown object>"
            ],
            "text/markdown": "> **model**: Inteligência Artificial (IA) refere-se a sistemas ou máquinas que exibem inteligência semelhante à humana, realizando tarefas que normalmente requerem habilidades cognitivas humanas, como:\n> \n> * **Aprendizado:** Capacidade de adquirir conhecimento e melhorar o desempenho com base em dados e experiências.\n> * **Raciocínio:** Capacidade de resolver problemas, tomar decisões e tirar conclusões.\n> * **Linguagem:** Capacidade de entender, gerar e responder a linguagem humana.\n> * **Percepção:** Capacidade de interpretar e compreender dados sensoriais, como imagens e sons.\n> * **Planejamento:** Capacidade de criar e executar planos para atingir objetivos.\n> \n> A IA é usada em uma ampla gama de aplicações, incluindo:\n> \n> * Reconhecimento de fala e imagem\n> * Processamento de linguagem natural\n> * Sistemas de recomendação\n> * Veículos autônomos\n> * Diagnóstico médico\n> * Análise de dados\n> * Robótica"
          },
          "metadata": {}
        },
        {
          "output_type": "stream",
          "name": "stdout",
          "text": [
            "-------------------------------------------\n"
          ]
        }
      ]
    },
    {
      "cell_type": "code",
      "source": [],
      "metadata": {
        "id": "vQ_uVxrD3SXa"
      },
      "execution_count": null,
      "outputs": []
    }
  ]
}